{
 "cells": [
  {
   "cell_type": "markdown",
   "id": "2f4faab7-743f-4dab-a674-80fc4e2086b6",
   "metadata": {},
   "source": [
    "# Import Packages"
   ]
  },
  {
   "cell_type": "code",
   "execution_count": null,
   "id": "ad92308f-31dc-4c23-98e1-dda7400371ad",
   "metadata": {},
   "outputs": [],
   "source": [
    "import os\n",
    "import shutil\n",
    "import random\n",
    "import numpy as np\n",
    "import pickle as pkl\n",
    "from sklearn.model_selection import train_test_split"
   ]
  },
  {
   "cell_type": "markdown",
   "id": "365645fe-e10c-46ba-8cfd-172465ab956b",
   "metadata": {},
   "source": [
    "# Split Data"
   ]
  },
  {
   "cell_type": "code",
   "execution_count": null,
   "id": "532bc1ae-2b42-443e-a69c-eb13aa36d48f",
   "metadata": {},
   "outputs": [],
   "source": [
    "dataset_path = 'NeuroFaceDataSet'\n",
    "\n",
    "train_dir = 'dataset_split/train'\n",
    "validation_dir = 'dataset_split/validation'\n",
    "test_dir = 'dataset_split/test'\n",
    "\n",
    "os.makedirs(train_dir, exist_ok=True)\n",
    "os.makedirs(validation_dir, exist_ok=True)\n",
    "os.makedirs(test_dir, exist_ok=True)"
   ]
  },
  {
   "cell_type": "code",
   "execution_count": null,
   "id": "9ca0ce5d-6380-4b6b-9338-ec47c5cc6f21",
   "metadata": {},
   "outputs": [],
   "source": [
    "def split_folders(folders, train_size=0.7, validation_size=0.15, test_size=0.15):\n",
    "    train, validation_test = train_test_split(folders, test_size=(validation_size + test_size), random_state=42)\n",
    "    validation, test = train_test_split(validation_test, test_size=test_size / (validation_size + test_size), random_state=42)\n",
    "    return train, validation, test"
   ]
  },
  {
   "cell_type": "code",
   "execution_count": null,
   "id": "efb7d558-e827-4228-819a-3b00a26dc1d4",
   "metadata": {},
   "outputs": [],
   "source": [
    "def move_folders(folders, source_dir, destination_dir):\n",
    "    for folder in folders:\n",
    "        shutil.copytree(os.path.join(source_dir, folder), os.path.join(destination_dir, folder))"
   ]
  },
  {
   "cell_type": "code",
   "execution_count": null,
   "id": "7aded45e-b511-4e9a-834d-138d081b9ba3",
   "metadata": {},
   "outputs": [],
   "source": [
    "for gender_dir in [os.path.join(dataset_path, 'men'),os.path.join(dataset_path, 'women')]:\n",
    "    people_dirs = [d for d in os.listdir(gender_dir) if os.path.isdir(os.path.join(gender_dir, d))]\n",
    "    \n",
    "    train_dirs, validation_dirs, test_dirs = split_folders(people_dirs)\n",
    "    \n",
    "    move_folders(train_dirs, gender_dir, os.path.join(train_dir, os.path.basename(gender_dir)))\n",
    "    move_folders(validation_dirs, gender_dir, os.path.join(validation_dir, os.path.basename(gender_dir)))\n",
    "    move_folders(test_dirs, gender_dir, os.path.join(test_dir, os.path.basename(gender_dir)))\n",
    "print('Split Data :  done!')"
   ]
  },
  {
   "cell_type": "markdown",
   "id": "68dea247-794e-4e05-9940-b1e1d2ae0766",
   "metadata": {},
   "source": [
    "# Build Pairs"
   ]
  },
  {
   "cell_type": "code",
   "execution_count": null,
   "id": "6006a53f-1adf-4a6d-bbed-96d7aa80e039",
   "metadata": {},
   "outputs": [],
   "source": [
    "pairs_dir = 'pairs'\n",
    "\n",
    "os.makedirs(pairs_dir, exist_ok=True)"
   ]
  },
  {
   "cell_type": "code",
   "execution_count": null,
   "id": "0c12e306-532b-4f1a-9edd-4ede4e7184fb",
   "metadata": {},
   "outputs": [],
   "source": [
    "def load_image_paths(base_dir):\n",
    "    image_paths = {'men': {}, 'women': {}}\n",
    "    valid_extensions = ('.jpg', '.jpeg', '.png') \n",
    "    for gender in ['men', 'women']:\n",
    "        gender_dir = os.path.join(base_dir, gender)\n",
    "        people_dirs = [os.path.join(gender_dir, d) for d in os.listdir(gender_dir) if os.path.isdir(os.path.join(gender_dir, d))]\n",
    "        for person_dir in people_dirs:\n",
    "            person_name = os.path.basename(person_dir)\n",
    "            image_paths[gender][person_name] = [os.path.join(person_dir, f) for f in os.listdir(person_dir) if f.lower().endswith(valid_extensions)]\n",
    "    return image_paths"
   ]
  },
  {
   "cell_type": "code",
   "execution_count": null,
   "id": "9c4f3bd9-b6e9-412c-bb70-fdf58a0d7eae",
   "metadata": {},
   "outputs": [],
   "source": [
    "def add_similar_pairs(image_paths, pairs, labels):\n",
    "    for imgs in image_paths.values():\n",
    "        if len(imgs) > 1:\n",
    "            similar_pairs = [(img1, img2) for i, img1 in enumerate(imgs) for img2 in imgs[i + 1:]]\n",
    "            pairs.extend(similar_pairs)\n",
    "            labels.extend([1] * len(similar_pairs))"
   ]
  },
  {
   "cell_type": "code",
   "execution_count": null,
   "id": "babb29aa-bd1d-453d-a152-e922e38db923",
   "metadata": {},
   "outputs": [],
   "source": [
    "def add_dissimilar_pairs(image_paths, pairs, labels, num_similar_pairs):\n",
    "    all_people = list(image_paths.keys())\n",
    "    random.seed(42)\n",
    "    while len(labels) < num_similar_pairs * 2:\n",
    "        person1 = random.choice(all_people)\n",
    "        person2 = random.choice(all_people)\n",
    "        if person1 != person2:\n",
    "            img1 = random.choice(image_paths[person1])\n",
    "            img2 = random.choice(image_paths[person2])\n",
    "            pairs.append((img1, img2))\n",
    "            labels.append(0)"
   ]
  },
  {
   "cell_type": "code",
   "execution_count": null,
   "id": "278ed7d3-7ee1-40fa-8dbd-629c898cc0b2",
   "metadata": {},
   "outputs": [],
   "source": [
    "def generate_pairs(image_paths, condition):\n",
    "    pairs = []\n",
    "    labels = []\n",
    "    if condition == 'women':\n",
    "        add_similar_pairs(image_paths['women'], pairs, labels)\n",
    "        add_dissimilar_pairs(image_paths['women'], pairs, labels, len(labels))\n",
    "    elif condition == 'men':\n",
    "        add_similar_pairs(image_paths['men'], pairs, labels)\n",
    "        add_dissimilar_pairs(image_paths['men'], pairs, labels, len(labels))\n",
    "    elif condition == 'mixed':\n",
    "        all_people = {**image_paths['men'], **image_paths['women']}\n",
    "        add_similar_pairs(all_people, pairs, labels)\n",
    "        add_dissimilar_pairs(all_people, pairs, labels, len(labels))\n",
    "    return np.array(pairs), np.array(labels)"
   ]
  },
  {
   "cell_type": "code",
   "execution_count": null,
   "id": "9a92295d-8f87-42ea-990f-9b85b734a87d",
   "metadata": {},
   "outputs": [],
   "source": [
    "def save_pairs(base_dir, file_name, condition):\n",
    "    image_paths = load_image_paths(base_dir)\n",
    "    pairs, labels = generate_pairs(image_paths, condition)\n",
    "    with open(os.path.join(pairs_dir, file_name), \"wb\") as f:\n",
    "        pkl.dump((pairs, labels), f)"
   ]
  },
  {
   "cell_type": "code",
   "execution_count": null,
   "id": "328104a5-f45c-428c-853a-a88106406ab9",
   "metadata": {},
   "outputs": [],
   "source": [
    "# train pairs\n",
    "save_pairs(train_dir, 'train_pairs_mixed.pkl', 'mixed')\n",
    "# validation pairs\n",
    "save_pairs(validation_dir, 'validation_pairs_mixed.pkl', 'mixed')\n",
    "# test pairs\n",
    "for condition in ['women', 'men', 'mixed']:\n",
    "    save_pairs(test_dir, f'test_pairs_{condition}.pkl', condition)\n",
    "print('Build Pairs :  done!')"
   ]
  }
 ],
 "metadata": {
  "kernelspec": {
   "display_name": "Python 3 (ipykernel)",
   "language": "python",
   "name": "python3"
  },
  "language_info": {
   "codemirror_mode": {
    "name": "ipython",
    "version": 3
   },
   "file_extension": ".py",
   "mimetype": "text/x-python",
   "name": "python",
   "nbconvert_exporter": "python",
   "pygments_lexer": "ipython3",
   "version": "3.11.7"
  }
 },
 "nbformat": 4,
 "nbformat_minor": 5
}
